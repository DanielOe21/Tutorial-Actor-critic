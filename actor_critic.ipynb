{
  "cells": [
    {
      "cell_type": "markdown",
      "metadata": {
        "id": "view-in-github",
        "colab_type": "text"
      },
      "source": [
        "<a href=\"https://colab.research.google.com/github/DanielOe21/Tutorial-Actor-critic/blob/main/actor_critic.ipynb\" target=\"_parent\"><img src=\"https://colab.research.google.com/assets/colab-badge.svg\" alt=\"Open In Colab\"/></a>"
      ]
    },
    {
      "cell_type": "markdown",
      "metadata": {
        "id": "_jQ1tEQCxwRx"
      },
      "source": [
        "##### Copyright 2020 The TensorFlow Authors."
      ]
    },
    {
      "cell_type": "code",
      "execution_count": null,
      "metadata": {
        "cellView": "form",
        "id": "V_sgB_5dx1f1"
      },
      "outputs": [],
      "source": [
        "#@title Licensed under the Apache License, Version 2.0 (the \"License\");\n",
        "# you may not use this file except in compliance with the License.\n",
        "# You may obtain a copy of the License at\n",
        "#\n",
        "# https://www.apache.org/licenses/LICENSE-2.0\n",
        "#\n",
        "# Unless required by applicable law or agreed to in writing, software\n",
        "# distributed under the License is distributed on an \"AS IS\" BASIS,\n",
        "# WITHOUT WARRANTIES OR CONDITIONS OF ANY KIND, either express or implied.\n",
        "# See the License for the specific language governing permissions and\n",
        "# limitations under the License."
      ]
    },
    {
      "cell_type": "markdown",
      "metadata": {
        "id": "p62G8M_viUJp"
      },
      "source": [
        "# Jugando al CartPole con el Método Actor-Crítico\n"
      ]
    },
    {
      "cell_type": "markdown",
      "metadata": {
        "id": "kFgN7h_wiUJq"
      },
      "source": [
        "Este tutorial demuestra cómo implementar el método Actor-Critic usando TensorFlow para capacitar a un agente en el entorno Open AI Gym CartPole-V0.\n"
      ]
    },
    {
      "cell_type": "markdown",
      "metadata": {
        "id": "_kA10ZKRR0hi"
      },
      "source": [
        "**Métodos actor-crítico**\n",
        "\n",
        "Los métodos Actor-Crítico son métodos de aprendizaje de diferencia temporal (TD) que representan la función de política independiente de la función de valor.\n",
        "\n",
        "Una **función de política** devuelve una distribución de probabilidad sobre las acciones que el agente puede realizar en función del estado dado. Una **función de valor** determina el rendimiento esperado para un agente que comienza en un estado dado y actúa de acuerdo con una política particular para siempre.\n",
        "\n",
        "En el método Actor-Crítico, la política se conoce como el actor que propone un conjunto de posibles acciones dado un estado, y la función de valor estimado se denomina crítica , que evalúa las acciones tomadas por el actor en función de la política dada. .\n",
        "\n",
        "En este tutorial, tanto el Actor como el Crítico se representarán utilizando una red neuronal con dos salidas.\n"
      ]
    },
    {
      "cell_type": "markdown",
      "metadata": {
        "id": "rBfiafKSRs2k"
      },
      "source": [
        "**Ejemplo de CartPole-v0**\n",
        "\n",
        "En el entorno CartPole-v0 , se une un poste a un carro que se mueve a lo largo de una pista sin fricción. El poste comienza en posición vertical y el objetivo del agente es evitar que se caiga aplicando una fuerza de -1 o +1 al carro. Se otorga una recompensa de +1 por cada paso de tiempo que el poste permanece en posición vertical. Un episodio termina cuando (1) el poste está a más de 15 grados de la vertical o (2) el carro se mueve a más de 2,4 unidades del centro.\n",
        "\n",
        "<center>\n",
        "  <figure>\n",
        "    <image src=\"https://github.com/tensorflow/docs/blob/master/site/en/tutorials/reinforcement_learning/images/cartpole-v0.gif?raw=1\">\n",
        "    <figcaption>\n",
        "      Modelo actor-crítico entrenado en entorno Cartpole-v0\n",
        "    </figcaption>\n",
        "  </figure>\n",
        "</center>\n"
      ]
    },
    {
      "cell_type": "markdown",
      "metadata": {
        "id": "XSNVK0AeRoJd"
      },
      "source": [
        "El problema se considera \"resuelto\" cuando la recompensa total promedio del episodio llega a 195 en 100 intentos consecutivos."
      ]
    },
    {
      "cell_type": "markdown",
      "metadata": {
        "id": "glLwIctHiUJq"
      },
      "source": [
        "## Setup\n",
        "\n",
        "Se importan los paquetes necesarios y se configuran los ajustes globales.\n"
      ]
    },
    {
      "cell_type": "code",
      "execution_count": 1,
      "metadata": {
        "id": "13l6BbxKhCKp",
        "colab": {
          "base_uri": "https://localhost:8080/"
        },
        "outputId": "a86fad63-e8f9-4bcf-c405-533eb9e95211"
      },
      "outputs": [
        {
          "output_type": "stream",
          "name": "stdout",
          "text": [
            "Requirement already satisfied: gym in /usr/local/lib/python3.7/dist-packages (0.17.3)\n",
            "Requirement already satisfied: pyglet<=1.5.0,>=1.4.0 in /usr/local/lib/python3.7/dist-packages (from gym) (1.5.0)\n",
            "Requirement already satisfied: numpy>=1.10.4 in /usr/local/lib/python3.7/dist-packages (from gym) (1.21.5)\n",
            "Requirement already satisfied: cloudpickle<1.7.0,>=1.2.0 in /usr/local/lib/python3.7/dist-packages (from gym) (1.3.0)\n",
            "Requirement already satisfied: scipy in /usr/local/lib/python3.7/dist-packages (from gym) (1.4.1)\n",
            "Requirement already satisfied: future in /usr/local/lib/python3.7/dist-packages (from pyglet<=1.5.0,>=1.4.0->gym) (0.16.0)\n",
            "Requirement already satisfied: pyglet in /usr/local/lib/python3.7/dist-packages (1.5.0)\n",
            "Requirement already satisfied: future in /usr/local/lib/python3.7/dist-packages (from pyglet) (0.16.0)\n"
          ]
        }
      ],
      "source": [
        "!pip install gym\n",
        "!pip install pyglet"
      ]
    },
    {
      "cell_type": "code",
      "execution_count": 2,
      "metadata": {
        "id": "WBeQhPi2S4m5"
      },
      "outputs": [],
      "source": [
        "%%bash\n",
        "# Install additional packages for visualization\n",
        "sudo apt-get install -y xvfb python-opengl > /dev/null 2>&1\n",
        "pip install pyvirtualdisplay > /dev/null 2>&1\n",
        "pip install git+https://github.com/tensorflow/docs > /dev/null 2>&1"
      ]
    },
    {
      "cell_type": "code",
      "execution_count": 3,
      "metadata": {
        "id": "tT4N3qYviUJr"
      },
      "outputs": [],
      "source": [
        "import collections\n",
        "import gym\n",
        "import numpy as np\n",
        "import statistics\n",
        "import tensorflow as tf\n",
        "import tqdm\n",
        "\n",
        "from matplotlib import pyplot as plt\n",
        "from tensorflow.keras import layers\n",
        "from typing import Any, List, Sequence, Tuple\n",
        "\n",
        "\n",
        "# Create the environment\n",
        "env = gym.make(\"CartPole-v0\")\n",
        "\n",
        "# Set seed for experiment reproducibility\n",
        "seed = 42\n",
        "env.seed(seed)\n",
        "tf.random.set_seed(seed)\n",
        "np.random.seed(seed)\n",
        "\n",
        "# Small epsilon value for stabilizing division operations\n",
        "eps = np.finfo(np.float32).eps.item()"
      ]
    },
    {
      "cell_type": "markdown",
      "metadata": {
        "id": "AOUCe2D0iUJu"
      },
      "source": [
        "## Modelo\n",
        "\n",
        "El actor y el crítico se modelarán utilizando una red neuronal que genera las probabilidades de acción y el valor crítico, respectivamente. Este tutorial utiliza subclases de modelos para definir el modelo.\n",
        "\n",
        "Durante el paso hacia adelante, el modelo tomará el estado como entrada y generará tanto las probabilidades de acción como el valor crítico $V$, que modela la función de valor dependiente del estado. El objetivo es entrenar un modelo que elija acciones basadas en una política  $\\pi$  que maximice el rendimiento esperado.\n",
        "\n",
        "Para el ejemplo de Cartpole-v0, hay cuatro valores que representan el estado:\n",
        "\n",
        "- Posición del carro\n",
        "- Velocidad del carro\n",
        "- Ángulo del poste y velocidad del poste, respectivamente.\n",
        "\n",
        "El agente puede realizar dos acciones para empujar el carro hacia la izquierda (0) y hacia la derecha (1) respectivamente.\n"
      ]
    },
    {
      "cell_type": "code",
      "execution_count": null,
      "metadata": {
        "id": "aXKbbMC-kmuv"
      },
      "outputs": [],
      "source": [
        "class ActorCritic(tf.keras.Model):\n",
        "  \"\"\"Combined actor-critic network.\"\"\"\n",
        "\n",
        "  def __init__(\n",
        "      self, \n",
        "      num_actions: int, \n",
        "      num_hidden_units: int):\n",
        "    \"\"\"Initialize.\"\"\"\n",
        "    super().__init__()\n",
        "\n",
        "    self.common = layers.Dense(num_hidden_units, activation=\"relu\")\n",
        "    self.actor = layers.Dense(num_actions)\n",
        "    self.critic = layers.Dense(1)\n",
        "\n",
        "  def call(self, inputs: tf.Tensor) -> Tuple[tf.Tensor, tf.Tensor]:\n",
        "    x = self.common(inputs)\n",
        "    return self.actor(x), self.critic(x)"
      ]
    },
    {
      "cell_type": "code",
      "execution_count": null,
      "metadata": {
        "id": "nWyxJgjLn68c"
      },
      "outputs": [],
      "source": [
        "num_actions = env.action_space.n  # 2\n",
        "num_hidden_units = 128\n",
        "\n",
        "model = ActorCritic(num_actions, num_hidden_units)"
      ]
    },
    {
      "cell_type": "markdown",
      "metadata": {
        "id": "hk92njFziUJw"
      },
      "source": [
        "## Training\n",
        "\n",
        "To train the agent, you will follow these steps:\n",
        "\n",
        "1. Run the agent on the environment to collect training data per episode.\n",
        "2. Compute expected return at each time step.\n",
        "3. Compute the loss for the combined actor-critic model.\n",
        "4. Compute gradients and update network parameters.\n",
        "5. Repeat 1-4 until either success criterion or max episodes has been reached.\n"
      ]
    },
    {
      "cell_type": "markdown",
      "metadata": {
        "id": "R2nde2XDs8Gh"
      },
      "source": [
        "### 1. Collecting training data\n",
        "\n",
        "As in supervised learning, in order to train the actor-critic model, you need\n",
        "to have training data. However, in order to collect such data, the model would\n",
        "need to be \"run\" in the environment.\n",
        "\n",
        "Training data is collected for each episode. Then at each time step, the model's forward pass will be run on the environment's state in order to generate action probabilities and the critic value based on the current policy parameterized by the model's weights.\n",
        "\n",
        "The next action will be sampled from the action probabilities generated by the model, which would then be applied to the environment, causing the next state and reward to be generated.\n",
        "\n",
        "This process is implemented in the `run_episode` function, which uses TensorFlow operations so that it can later be compiled into a TensorFlow graph for faster training. Note that `tf.TensorArray`s were used to support Tensor iteration on variable length arrays."
      ]
    },
    {
      "cell_type": "code",
      "execution_count": null,
      "metadata": {
        "id": "5URrbGlDSAGx"
      },
      "outputs": [],
      "source": [
        "# Wrap OpenAI Gym's `env.step` call as an operation in a TensorFlow function.\n",
        "# This would allow it to be included in a callable TensorFlow graph.\n",
        "\n",
        "def env_step(action: np.ndarray) -> Tuple[np.ndarray, np.ndarray, np.ndarray]:\n",
        "  \"\"\"Returns state, reward and done flag given an action.\"\"\"\n",
        "\n",
        "  state, reward, done, _ = env.step(action)\n",
        "  return (state.astype(np.float32), \n",
        "          np.array(reward, np.int32), \n",
        "          np.array(done, np.int32))\n",
        "\n",
        "\n",
        "def tf_env_step(action: tf.Tensor) -> List[tf.Tensor]:\n",
        "  return tf.numpy_function(env_step, [action], \n",
        "                           [tf.float32, tf.int32, tf.int32])"
      ]
    },
    {
      "cell_type": "code",
      "execution_count": null,
      "metadata": {
        "id": "a4qVRV063Cl9"
      },
      "outputs": [],
      "source": [
        "def run_episode(\n",
        "    initial_state: tf.Tensor,  \n",
        "    model: tf.keras.Model, \n",
        "    max_steps: int) -> Tuple[tf.Tensor, tf.Tensor, tf.Tensor]:\n",
        "  \"\"\"Runs a single episode to collect training data.\"\"\"\n",
        "\n",
        "  action_probs = tf.TensorArray(dtype=tf.float32, size=0, dynamic_size=True)\n",
        "  values = tf.TensorArray(dtype=tf.float32, size=0, dynamic_size=True)\n",
        "  rewards = tf.TensorArray(dtype=tf.int32, size=0, dynamic_size=True)\n",
        "\n",
        "  initial_state_shape = initial_state.shape\n",
        "  state = initial_state\n",
        "\n",
        "  for t in tf.range(max_steps):\n",
        "    # Convert state into a batched tensor (batch size = 1)\n",
        "    state = tf.expand_dims(state, 0)\n",
        "  \n",
        "    # Run the model and to get action probabilities and critic value\n",
        "    action_logits_t, value = model(state)\n",
        "  \n",
        "    # Sample next action from the action probability distribution\n",
        "    action = tf.random.categorical(action_logits_t, 1)[0, 0]\n",
        "    action_probs_t = tf.nn.softmax(action_logits_t)\n",
        "\n",
        "    # Store critic values\n",
        "    values = values.write(t, tf.squeeze(value))\n",
        "\n",
        "    # Store log probability of the action chosen\n",
        "    action_probs = action_probs.write(t, action_probs_t[0, action])\n",
        "  \n",
        "    # Apply action to the environment to get next state and reward\n",
        "    state, reward, done = tf_env_step(action)\n",
        "    state.set_shape(initial_state_shape)\n",
        "  \n",
        "    # Store reward\n",
        "    rewards = rewards.write(t, reward)\n",
        "\n",
        "    if tf.cast(done, tf.bool):\n",
        "      break\n",
        "\n",
        "  action_probs = action_probs.stack()\n",
        "  values = values.stack()\n",
        "  rewards = rewards.stack()\n",
        "  \n",
        "  return action_probs, values, rewards"
      ]
    },
    {
      "cell_type": "markdown",
      "metadata": {
        "id": "lBnIHdz22dIx"
      },
      "source": [
        "### 2. Computing expected returns\n",
        "\n",
        "The sequence of rewards for each timestep $t$, $\\{r_{t}\\}^{T}_{t=1}$ collected during one episode is converted into a sequence of expected returns $\\{G_{t}\\}^{T}_{t=1}$ in which the sum of rewards is taken from the current timestep $t$ to $T$ and each reward is multiplied with an exponentially decaying discount factor $\\gamma$:\n",
        "\n",
        "$$G_{t} = \\sum^{T}_{t'=t} \\gamma^{t'-t}r_{t'}$$\n",
        "\n",
        "Since $\\gamma\\in(0,1)$, rewards further out from the current timestep are given less weight.\n",
        "\n",
        "Intuitively, expected return simply implies that rewards now are better than rewards later. In a mathematical sense, it is to ensure that the sum of the rewards converges.\n",
        "\n",
        "To stabilize training, the resulting sequence of returns is also standardized (i.e. to have zero mean and unit standard deviation).\n"
      ]
    },
    {
      "cell_type": "code",
      "execution_count": null,
      "metadata": {
        "id": "jpEwFyl315dl"
      },
      "outputs": [],
      "source": [
        "def get_expected_return(\n",
        "    rewards: tf.Tensor, \n",
        "    gamma: float, \n",
        "    standardize: bool = True) -> tf.Tensor:\n",
        "  \"\"\"Compute expected returns per timestep.\"\"\"\n",
        "\n",
        "  n = tf.shape(rewards)[0]\n",
        "  returns = tf.TensorArray(dtype=tf.float32, size=n)\n",
        "\n",
        "  # Start from the end of `rewards` and accumulate reward sums\n",
        "  # into the `returns` array\n",
        "  rewards = tf.cast(rewards[::-1], dtype=tf.float32)\n",
        "  discounted_sum = tf.constant(0.0)\n",
        "  discounted_sum_shape = discounted_sum.shape\n",
        "  for i in tf.range(n):\n",
        "    reward = rewards[i]\n",
        "    discounted_sum = reward + gamma * discounted_sum\n",
        "    discounted_sum.set_shape(discounted_sum_shape)\n",
        "    returns = returns.write(i, discounted_sum)\n",
        "  returns = returns.stack()[::-1]\n",
        "\n",
        "  if standardize:\n",
        "    returns = ((returns - tf.math.reduce_mean(returns)) / \n",
        "               (tf.math.reduce_std(returns) + eps))\n",
        "\n",
        "  return returns"
      ]
    },
    {
      "cell_type": "markdown",
      "metadata": {
        "id": "1hrPLrgGxlvb"
      },
      "source": [
        "### 3. The actor-critic loss\n",
        "\n",
        "Since a hybrid actor-critic model is used, the chosen loss function is a combination of actor and critic losses for training, as shown below:\n",
        "\n",
        "$$L = L_{actor} + L_{critic}$$\n",
        "\n",
        "#### Actor loss\n",
        "\n",
        "The actor loss is based on [policy gradients with the critic as a state dependent baseline](https://www.youtube.com/watch?v=EKqxumCuAAY&t=62m23s) and computed with single-sample (per-episode) estimates.\n",
        "\n",
        "$$L_{actor} = -\\sum^{T}_{t=1} \\log\\pi_{\\theta}(a_{t} | s_{t})[G(s_{t}, a_{t})  - V^{\\pi}_{\\theta}(s_{t})]$$\n",
        "\n",
        "where:\n",
        "- $T$: the number of timesteps per episode, which can vary per episode\n",
        "- $s_{t}$: the state at timestep $t$\n",
        "- $a_{t}$: chosen action at timestep $t$ given state $s$\n",
        "- $\\pi_{\\theta}$: is the policy (actor) parameterized by $\\theta$\n",
        "- $V^{\\pi}_{\\theta}$: is the value function (critic) also parameterized by $\\theta$\n",
        "- $G = G_{t}$: the expected return for a given state, action pair at timestep $t$\n",
        "\n",
        "A negative term is added to the sum since the idea is to maximize the probabilities of actions yielding higher rewards by minimizing the combined loss.\n",
        "\n",
        "<br>\n",
        "\n",
        "##### Advantage\n",
        "\n",
        "The $G - V$ term in our $L_{actor}$ formulation is called the [advantage](https://spinningup.openai.com/en/latest/spinningup/rl_intro.html#advantage-functions), which indicates how much better an action is given a particular state over a random action selected according to the policy $\\pi$ for that state.\n",
        "\n",
        "While it's possible to exclude a baseline, this may result in high variance during training. And the nice thing about choosing the critic $V$ as a baseline is that it trained to be as close as possible to $G$, leading to a lower variance.\n",
        "\n",
        "In addition, without the critic, the algorithm would try to increase probabilities for actions taken on a particular state based on expected return, which may not make much of a difference if the relative probabilities between actions remain the same.\n",
        "\n",
        "For instance, suppose that two actions for a given state would yield the same expected return. Without the critic, the algorithm would try to raise the probability of these actions based on the objective $J$. With the critic, it may turn out that there's no advantage ($G - V = 0$) and thus no benefit gained in increasing the actions' probabilities and the algorithm would set the gradients to zero.\n",
        "\n",
        "<br>\n",
        "\n",
        "#### Critic loss\n",
        "\n",
        "Training $V$ to be as close possible to $G$ can be set up as a regression problem with the following loss function:\n",
        "\n",
        "$$L_{critic} = L_{\\delta}(G, V^{\\pi}_{\\theta})$$\n",
        "\n",
        "where $L_{\\delta}$ is the [Huber loss](https://en.wikipedia.org/wiki/Huber_loss), which is less sensitive to outliers in data than squared-error loss.\n"
      ]
    },
    {
      "cell_type": "code",
      "execution_count": null,
      "metadata": {
        "id": "9EXwbEez6n9m"
      },
      "outputs": [],
      "source": [
        "huber_loss = tf.keras.losses.Huber(reduction=tf.keras.losses.Reduction.SUM)\n",
        "\n",
        "def compute_loss(\n",
        "    action_probs: tf.Tensor,  \n",
        "    values: tf.Tensor,  \n",
        "    returns: tf.Tensor) -> tf.Tensor:\n",
        "  \"\"\"Computes the combined actor-critic loss.\"\"\"\n",
        "\n",
        "  advantage = returns - values\n",
        "\n",
        "  action_log_probs = tf.math.log(action_probs)\n",
        "  actor_loss = -tf.math.reduce_sum(action_log_probs * advantage)\n",
        "\n",
        "  critic_loss = huber_loss(values, returns)\n",
        "\n",
        "  return actor_loss + critic_loss"
      ]
    },
    {
      "cell_type": "markdown",
      "metadata": {
        "id": "HSYkQOmRfV75"
      },
      "source": [
        "### 4. Defining the training step to update parameters\n",
        "\n",
        "All of the steps above are combined into a training step that is run every episode. All steps leading up to the loss function are executed with the `tf.GradientTape` context to enable automatic differentiation.\n",
        "\n",
        "This tutorial uses the Adam optimizer to apply the gradients to the model parameters.\n",
        "\n",
        "The sum of the undiscounted rewards, `episode_reward`, is also computed in this step. This value will be used later on to evaluate if the success criterion is met.\n",
        "\n",
        "The `tf.function` context is applied to the `train_step` function so that it can be compiled into a callable TensorFlow graph, which can lead to 10x speedup in training.\n"
      ]
    },
    {
      "cell_type": "code",
      "execution_count": null,
      "metadata": {
        "id": "QoccrkF3IFCg"
      },
      "outputs": [],
      "source": [
        "optimizer = tf.keras.optimizers.Adam(learning_rate=0.01)\n",
        "\n",
        "\n",
        "@tf.function\n",
        "def train_step(\n",
        "    initial_state: tf.Tensor, \n",
        "    model: tf.keras.Model, \n",
        "    optimizer: tf.keras.optimizers.Optimizer, \n",
        "    gamma: float, \n",
        "    max_steps_per_episode: int) -> tf.Tensor:\n",
        "  \"\"\"Runs a model training step.\"\"\"\n",
        "\n",
        "  with tf.GradientTape() as tape:\n",
        "\n",
        "    # Run the model for one episode to collect training data\n",
        "    action_probs, values, rewards = run_episode(\n",
        "        initial_state, model, max_steps_per_episode) \n",
        "\n",
        "    # Calculate expected returns\n",
        "    returns = get_expected_return(rewards, gamma)\n",
        "\n",
        "    # Convert training data to appropriate TF tensor shapes\n",
        "    action_probs, values, returns = [\n",
        "        tf.expand_dims(x, 1) for x in [action_probs, values, returns]] \n",
        "\n",
        "    # Calculating loss values to update our network\n",
        "    loss = compute_loss(action_probs, values, returns)\n",
        "\n",
        "  # Compute the gradients from the loss\n",
        "  grads = tape.gradient(loss, model.trainable_variables)\n",
        "\n",
        "  # Apply the gradients to the model's parameters\n",
        "  optimizer.apply_gradients(zip(grads, model.trainable_variables))\n",
        "\n",
        "  episode_reward = tf.math.reduce_sum(rewards)\n",
        "\n",
        "  return episode_reward"
      ]
    },
    {
      "cell_type": "markdown",
      "metadata": {
        "id": "HFvZiDoAflGK"
      },
      "source": [
        "### 5. Run the training loop\n",
        "\n",
        "Training is executed by running the training step until either the success criterion or maximum number of episodes is reached.  \n",
        "\n",
        "A running record of episode rewards is kept in a queue. Once 100 trials are reached, the oldest reward is removed at the left (tail) end of the queue and the newest one is added at the head (right). A running sum of the rewards is also maintained for computational efficiency. \n",
        "\n",
        "Depending on your runtime, training can finish in less than a minute."
      ]
    },
    {
      "cell_type": "code",
      "execution_count": null,
      "metadata": {
        "id": "kbmBxnzLiUJx",
        "colab": {
          "base_uri": "https://localhost:8080/"
        },
        "outputId": "ef3dcb0c-43fc-4273-c316-d0ca01550cea"
      },
      "outputs": [
        {
          "output_type": "stream",
          "name": "stderr",
          "text": [
            "Episode 627:   6%|▋         | 627/10000 [00:46<11:38, 13.42it/s, episode_reward=200, running_reward=195]"
          ]
        },
        {
          "output_type": "stream",
          "name": "stdout",
          "text": [
            "\n",
            "Solved at episode 627: average reward: 195.09!\n",
            "CPU times: user 41.7 s, sys: 1.56 s, total: 43.3 s\n",
            "Wall time: 46.7 s\n"
          ]
        },
        {
          "output_type": "stream",
          "name": "stderr",
          "text": [
            "\n"
          ]
        }
      ],
      "source": [
        "%%time\n",
        "\n",
        "min_episodes_criterion = 100\n",
        "max_episodes = 10000\n",
        "max_steps_per_episode = 1000\n",
        "\n",
        "# Cartpole-v0 is considered solved if average reward is >= 195 over 100 \n",
        "# consecutive trials\n",
        "reward_threshold = 195\n",
        "running_reward = 0\n",
        "\n",
        "# Discount factor for future rewards\n",
        "gamma = 0.99\n",
        "\n",
        "# Keep last episodes reward\n",
        "episodes_reward: collections.deque = collections.deque(maxlen=min_episodes_criterion)\n",
        "\n",
        "with tqdm.trange(max_episodes) as t:\n",
        "  for i in t:\n",
        "    initial_state = tf.constant(env.reset(), dtype=tf.float32)\n",
        "    episode_reward = int(train_step(\n",
        "        initial_state, model, optimizer, gamma, max_steps_per_episode))\n",
        "    \n",
        "    episodes_reward.append(episode_reward)\n",
        "    running_reward = statistics.mean(episodes_reward)\n",
        "  \n",
        "    t.set_description(f'Episode {i}')\n",
        "    t.set_postfix(\n",
        "        episode_reward=episode_reward, running_reward=running_reward)\n",
        "  \n",
        "    # Show average episode reward every 10 episodes\n",
        "    if i % 10 == 0:\n",
        "      pass # print(f'Episode {i}: average reward: {avg_reward}')\n",
        "  \n",
        "    if running_reward > reward_threshold and i >= min_episodes_criterion:  \n",
        "        break\n",
        "\n",
        "print(f'\\nSolved at episode {i}: average reward: {running_reward:.2f}!')"
      ]
    },
    {
      "cell_type": "markdown",
      "metadata": {
        "id": "ru8BEwS1EmAv"
      },
      "source": [
        "## Visualization\n",
        "\n",
        "After training, it would be good to visualize how the model performs in the environment. You can run the cells below to generate a GIF animation of one episode run of the model. Note that additional packages need to be installed for OpenAI Gym to render the environment's images correctly in Colab."
      ]
    },
    {
      "cell_type": "code",
      "execution_count": null,
      "metadata": {
        "id": "qbIMMkfmRHyC"
      },
      "outputs": [],
      "source": [
        "# Render an episode and save as a GIF file\n",
        "\n",
        "from IPython import display as ipythondisplay\n",
        "from PIL import Image\n",
        "from pyvirtualdisplay import Display\n",
        "\n",
        "\n",
        "display = Display(visible=0, size=(400, 300))\n",
        "display.start()\n",
        "\n",
        "\n",
        "def render_episode(env: gym.Env, model: tf.keras.Model, max_steps: int): \n",
        "  screen = env.render(mode='rgb_array')\n",
        "  im = Image.fromarray(screen)\n",
        "\n",
        "  images = [im]\n",
        "  \n",
        "  state = tf.constant(env.reset(), dtype=tf.float32)\n",
        "  for i in range(1, max_steps + 1):\n",
        "    state = tf.expand_dims(state, 0)\n",
        "    action_probs, _ = model(state)\n",
        "    action = np.argmax(np.squeeze(action_probs))\n",
        "\n",
        "    state, _, done, _ = env.step(action)\n",
        "    state = tf.constant(state, dtype=tf.float32)\n",
        "\n",
        "    # Render screen every 10 steps\n",
        "    if i % 10 == 0:\n",
        "      screen = env.render(mode='rgb_array')\n",
        "      images.append(Image.fromarray(screen))\n",
        "  \n",
        "    if done:\n",
        "      break\n",
        "  \n",
        "  return images\n",
        "\n",
        "\n",
        "# Save GIF image\n",
        "images = render_episode(env, model, max_steps_per_episode)\n",
        "image_file = 'cartpole-v0.gif'\n",
        "# loop=0: loop forever, duration=1: play each frame for 1ms\n",
        "images[0].save(\n",
        "    image_file, save_all=True, append_images=images[1:], loop=0, duration=1)"
      ]
    },
    {
      "cell_type": "code",
      "execution_count": null,
      "metadata": {
        "id": "TLd720SejKmf",
        "colab": {
          "base_uri": "https://localhost:8080/",
          "height": 422
        },
        "outputId": "0f4a223e-24c7-45ef-e596-87b84b1ab34d"
      },
      "outputs": [
        {
          "output_type": "execute_result",
          "data": {
            "text/plain": [
              "<IPython.core.display.HTML object>"
            ],
            "text/html": [
              "<img src=\"data:image/gif;base64,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\"/>"
            ]
          },
          "metadata": {},
          "execution_count": 14
        }
      ],
      "source": [
        "import tensorflow_docs.vis.embed as embed\n",
        "embed.embed_file(image_file)"
      ]
    },
    {
      "cell_type": "markdown",
      "metadata": {
        "id": "lnq9Hzo1Po6X"
      },
      "source": [
        "## Next steps\n",
        "\n",
        "This tutorial demonstrated how to implement the actor-critic method using Tensorflow.\n",
        "\n",
        "As a next step, you could try training a model on a different environment in OpenAI Gym. \n",
        "\n",
        "For additional information regarding actor-critic methods and the Cartpole-v0 problem, you may refer to the following resources:\n",
        "\n",
        "- [Actor Critic Method](https://hal.inria.fr/hal-00840470/document)\n",
        "- [Actor Critic Lecture (CAL)](https://www.youtube.com/watch?v=EKqxumCuAAY&list=PLkFD6_40KJIwhWJpGazJ9VSj9CFMkb79A&index=7&t=0s)\n",
        "- [Cartpole learning control problem \\[Barto, et al. 1983\\]](http://www.derongliu.org/adp/adp-cdrom/Barto1983.pdf) \n",
        "\n",
        "For more reinforcement learning examples in TensorFlow, you can check the following resources:\n",
        "- [Reinforcement learning code examples (keras.io)](https://keras.io/examples/rl/)\n",
        "- [TF-Agents reinforcement learning library](https://www.tensorflow.org/agents)\n"
      ]
    }
  ],
  "metadata": {
    "colab": {
      "collapsed_sections": [
        "_jQ1tEQCxwRx"
      ],
      "name": "actor_critic.ipynb",
      "provenance": [],
      "include_colab_link": true
    },
    "kernelspec": {
      "display_name": "Python 3",
      "name": "python3"
    }
  },
  "nbformat": 4,
  "nbformat_minor": 0
}